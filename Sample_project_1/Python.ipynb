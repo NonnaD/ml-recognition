{
 "cells": [
  {
   "cell_type": "markdown",
   "id": "7764f31c-08d2-49f0-bfe1-70f2f351a0c6",
   "metadata": {},
   "source": [
    "## Slicing string "
   ]
  },
  {
   "cell_type": "code",
   "execution_count": 3,
   "id": "ad61da1e-9ed5-4f1b-983d-18d5863b4e3f",
   "metadata": {},
   "outputs": [
    {
     "data": {
      "text/plain": [
       "'zhabieva'"
      ]
     },
     "execution_count": 3,
     "metadata": {},
     "output_type": "execute_result"
    }
   ],
   "source": [
    "# Defining the full name\n",
    "fullName = 'Nonna Dzhabieva'\n",
    "\n",
    "# Slicing the first name using standard indexing\n",
    "firstName = fullName[0:5] \n",
    "# firstName should be 'Nonna'\n",
    "\n",
    "# Slicing the last name using negative indexing\n",
    "# Note: we slice from -10 to -1, not -1 to -10\n",
    "lastName = fullName[-10:-1]\n",
    "\n",
    "# Slicing from the beginning to a specific character by\n",
    "omitting the first index\n",
    "firstName = fullName[:5] \n",
    "\n",
    "# Slicing from a specific character to the very end of the string\n",
    "lastName = fullName[7:]\n",
    "lastName"
   ]
  },
  {
   "cell_type": "markdown",
   "id": "7a993197-b959-4c5a-99a2-a94975be100f",
   "metadata": {},
   "source": [
    "## Lower() and Upper()"
   ]
  },
  {
   "cell_type": "code",
   "execution_count": null,
   "id": "6d6610c6-a9f3-481b-9dcc-22ed79301dec",
   "metadata": {},
   "outputs": [],
   "source": [
    "fullName = 'Nonna Dzhabieva'\n",
    "\n",
    "t = fullName.lower()\n",
    "print(t)  # This will output 'nonna dzhabieva'\n",
    "\n",
    "k = fullName.upper()\n",
    "print(k)  # This will output 'NONNA DZHABIEVA'\n"
   ]
  },
  {
   "cell_type": "markdown",
   "id": "16433e38-ab27-44bb-b561-82e59f25a7ee",
   "metadata": {},
   "source": [
    "## Remove whitespaces \n",
    "strip() lstrip() rstrip()"
   ]
  },
  {
   "cell_type": "code",
   "execution_count": null,
   "id": "0e9e0817-4acd-45ae-a211-3d51f1b05496",
   "metadata": {},
   "outputs": [],
   "source": [
    "name = ' Nonna '\n",
    "\n",
    "# Remove spaces from both ends of the string\n",
    "a = name.strip()\n",
    "print(a)  # Outputs 'Nonna'\n",
    "\n",
    "# Remove spaces from the left end (beginning) of the string\n",
    "l = name.lstrip()\n",
    "print(l)  # Outputs 'Nonna '\n",
    "\n",
    "# Remove spaces from the right end of the string\n",
    "r = name.rstrip()\n",
    "print(r)  # Outputs ' Nonna'\n"
   ]
  },
  {
   "cell_type": "markdown",
   "id": "0a0ba684-4878-4d74-bfd0-2196c0056023",
   "metadata": {},
   "source": [
    "## Startswith() EndsWith()"
   ]
  },
  {
   "cell_type": "code",
   "execution_count": 5,
   "id": "f3a6e639-bb5c-4299-9a42-a9857ddf47cd",
   "metadata": {},
   "outputs": [],
   "source": [
    "name = ' Nonna '\n",
    "\n",
    "# Check if the name starts with 'No'\n",
    "starts_with_No = name.startswith('No')\n",
    "# This will output True\n",
    "\n",
    "# Check if the name starts with 'no' (case-sensitive)\n",
    "starts_with_no = name.startswith('no')\n",
    "# This will output False\n",
    "\n",
    "# Check if the name ends with 'nna'\n",
    "ends_with_nna = name.endswith('nna')\n",
    "# This will output True"
   ]
  },
  {
   "cell_type": "markdown",
   "id": "59a5668b-e446-4917-a1ef-ce5e9e2f6e72",
   "metadata": {},
   "source": [
    "## Title() and Capitalize()"
   ]
  },
  {
   "cell_type": "code",
   "execution_count": 11,
   "id": "ac333c19-3aea-4327-8e24-097ee502b05a",
   "metadata": {},
   "outputs": [
    {
     "data": {
      "text/plain": [
       "'Nonna Dzhabieva'"
      ]
     },
     "execution_count": 11,
     "metadata": {},
     "output_type": "execute_result"
    }
   ],
   "source": [
    "name = \"nonna dzhabieva\"\n",
    "\n",
    "titled_name = name.title()\n",
    "titled_name"
   ]
  },
  {
   "cell_type": "code",
   "execution_count": 12,
   "id": "35931dcc-ed25-42c7-8555-cfda65bd8976",
   "metadata": {},
   "outputs": [
    {
     "data": {
      "text/plain": [
       "'Nonna dzhabieva'"
      ]
     },
     "execution_count": 12,
     "metadata": {},
     "output_type": "execute_result"
    }
   ],
   "source": [
    "cap_name = name.capitalize()\n",
    "cap_name"
   ]
  },
  {
   "cell_type": "markdown",
   "id": "1edaa467-4d2b-4cae-8ecf-4b2ec2fb4c2b",
   "metadata": {},
   "source": [
    "## FInd() and Index()"
   ]
  },
  {
   "cell_type": "code",
   "execution_count": 13,
   "id": "3dd2f1c4-98cb-45b4-8269-a871364dd521",
   "metadata": {},
   "outputs": [
    {
     "name": "stdout",
     "output_type": "stream",
     "text": [
      "Position of 'l' using index: 1\n",
      "Substring 'xyz' not found using index()\n"
     ]
    }
   ],
   "source": [
    "name = \"Alan Dzhabiev\"\n",
    "\n",
    "# Using str.find() to find the position of the substring 'lan'\n",
    "position_with_find = name.find('lan')\n",
    "# Outputs 1 where 'lan' starts\n",
    "\n",
    "# Using str.index() to find the position of the character 'l'\n",
    "position_with_index = name.index('l')\n",
    "print(f\"Position of 'l' using index: {position_with_index}\")  # Outputs 1\n",
    "\n",
    "# Demonstrating the difference between find() and index()\n",
    "# index() raises a ValueError if the substring is not found\n",
    "try:\n",
    "    position = name.index('xyz')\n",
    "    print(f\"Position of 'xyz': {position}\")\n",
    "except ValueError:\n",
    "    print(\"Substring 'xyz' not found using index()\")\n"
   ]
  },
  {
   "cell_type": "markdown",
   "id": "18d86e92-9979-4bee-8cff-1ad2d09bd97e",
   "metadata": {},
   "source": [
    "## Replace(\"a\", \"b\")"
   ]
  },
  {
   "cell_type": "code",
   "execution_count": 14,
   "id": "56a082d6-4aa6-4cde-8c73-0667c68e39d6",
   "metadata": {},
   "outputs": [
    {
     "name": "stdout",
     "output_type": "stream",
     "text": [
      "Nonna Dzhabieva\n"
     ]
    }
   ],
   "source": [
    "name = 'Nonna Kurbanova'\n",
    "\n",
    "# Using str.replace() to replace 'Kurbanova' with 'Dzhabieva'\n",
    "new_name = name.replace('Kurbanova', 'Dzhabieva')\n",
    "print(new_name)  # Outputs 'Nonna Dzhabieva'\n"
   ]
  },
  {
   "cell_type": "markdown",
   "id": "59220a0b-89a9-44b7-88e9-133ca88cf622",
   "metadata": {},
   "source": [
    "## Split() and Join()"
   ]
  },
  {
   "cell_type": "code",
   "execution_count": 15,
   "id": "dc24f6ce-ad43-435e-8462-f96915c3c5b9",
   "metadata": {},
   "outputs": [
    {
     "name": "stdout",
     "output_type": "stream",
     "text": [
      "['Alan', 'Dzhabiev']\n",
      "Hello world Python is awesome\n"
     ]
    }
   ],
   "source": [
    "# Splitting the string into a list\n",
    "name = \"Alan Dzhabiev\"\n",
    "split_name = name.split(' ')\n",
    "print(split_name)  # This will output ['Alan', 'Dzhabiev']\n",
    "\n",
    "# Joining elements of a list into a single string\n",
    "words = ['Hello', 'world', 'Python', 'is', 'awesome']\n",
    "sentence = ' '.join(words)\n",
    "print(sentence)  # This will output \"Hello world Python is awesome\"\n"
   ]
  },
  {
   "cell_type": "markdown",
   "id": "3e93102f-127d-4512-8daf-00ab266d67c4",
   "metadata": {},
   "source": [
    "## Reading from console input()"
   ]
  },
  {
   "cell_type": "code",
   "execution_count": 17,
   "id": "275e05e8-dde4-49d9-8254-5e3d0a6c4805",
   "metadata": {},
   "outputs": [
    {
     "name": "stdin",
     "output_type": "stream",
     "text": [
      "What's your name?  Nonna\n"
     ]
    },
    {
     "name": "stdout",
     "output_type": "stream",
     "text": [
      "Nonna\n"
     ]
    },
    {
     "name": "stdin",
     "output_type": "stream",
     "text": [
      " Alan\n"
     ]
    },
    {
     "name": "stdout",
     "output_type": "stream",
     "text": [
      "Alan\n"
     ]
    }
   ],
   "source": [
    "# Asking for a name with a prompt\n",
    "name_with_prompt = input(\"What's your name? \")\n",
    "print(name_with_prompt)  # This will output the entered name\n",
    "\n",
    "# Asking for a name without a prompt\n",
    "name_without_prompt = input()\n",
    "print(name_without_prompt)  # This will output the entered name\n"
   ]
  },
  {
   "cell_type": "markdown",
   "id": "85207267-7969-4bab-914d-13c36dcd3b48",
   "metadata": {},
   "source": [
    "## String multiplication "
   ]
  },
  {
   "cell_type": "code",
   "execution_count": 18,
   "id": "17ab870d-91db-46f5-970f-59e25e37274b",
   "metadata": {},
   "outputs": [],
   "source": [
    "name = 'Nonna'\n",
    "\n",
    "# Multiply the string by a number\n",
    "repeated_name = name * 5\n",
    "# This will output 'NonnaNonnaNonnaNonnaNonna'\n",
    "\n",
    "new_name = name * \"Dzhabieva\"\n",
    "#multiplying string by string results in an error"
   ]
  },
  {
   "cell_type": "markdown",
   "id": "ef80cde9-da85-438b-bfa8-8cd0b0bf0986",
   "metadata": {},
   "source": [
    "## Data casting "
   ]
  },
  {
   "cell_type": "code",
   "execution_count": 19,
   "id": "2d84b0cf-f905-4ee3-850b-be1f3a280679",
   "metadata": {},
   "outputs": [
    {
     "name": "stdout",
     "output_type": "stream",
     "text": [
      "True\n"
     ]
    }
   ],
   "source": [
    "# Converting a string to an integer\n",
    "int_value = int('9')\n",
    "# Outputs 9\n",
    "\n",
    "# Converting a string to a float\n",
    "float_value = float('8.9')\n",
    "# Outputs 8.9\n",
    "\n",
    "# Converting an integer to a string\n",
    "str_value = str(7)\n",
    "# Outputs '7'\n",
    "\n",
    "# Converting integers to boolean values\n",
    "bool_value_1 = bool(1)\n",
    "# Outputs True\n",
    "\n",
    "bool_value_0 = bool(0)\n",
    "# Outputs False - only 0 \n",
    "#is false all other negative and postive nums are true \n"
   ]
  },
  {
   "cell_type": "code",
   "execution_count": null,
   "id": "21679e89-ee86-4c9f-8a44-eb112b156cf3",
   "metadata": {},
   "outputs": [],
   "source": []
  }
 ],
 "metadata": {
  "kernelspec": {
   "display_name": "Python 3 (ipykernel)",
   "language": "python",
   "name": "python3"
  },
  "language_info": {
   "codemirror_mode": {
    "name": "ipython",
    "version": 3
   },
   "file_extension": ".py",
   "mimetype": "text/x-python",
   "name": "python",
   "nbconvert_exporter": "python",
   "pygments_lexer": "ipython3",
   "version": "3.11.5"
  }
 },
 "nbformat": 4,
 "nbformat_minor": 5
}
