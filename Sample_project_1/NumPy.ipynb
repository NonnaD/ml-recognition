{
 "cells": [
  {
   "cell_type": "markdown",
   "id": "31faccbc-e0aa-4e0f-93ae-b42b128e18e8",
   "metadata": {},
   "source": [
    "### Note: shift + tab will bring up function docs"
   ]
  },
  {
   "cell_type": "code",
   "execution_count": 1,
   "id": "54d86fcf-1104-417a-8154-ab43792fb0c0",
   "metadata": {},
   "outputs": [
    {
     "data": {
      "text/plain": [
       "array([1, 2, 3])"
      ]
     },
     "execution_count": 1,
     "metadata": {},
     "output_type": "execute_result"
    }
   ],
   "source": [
    "import numpy as np\n",
    "\n",
    "#All data in numpy is a type of ndarray (n-dimentional array)\n",
    "a1dim = np.array([1,2,3])\n",
    "\n",
    "a1dim"
   ]
  },
  {
   "cell_type": "code",
   "execution_count": 2,
   "id": "9944522b-079e-40c3-8b69-07ea96e55ff6",
   "metadata": {},
   "outputs": [
    {
     "data": {
      "text/plain": [
       "array([[1, 2, 3],\n",
       "       [4, 5, 6]])"
      ]
     },
     "execution_count": 2,
     "metadata": {},
     "output_type": "execute_result"
    }
   ],
   "source": [
    "a2dim = np.array([[1,2,3], [4,5,6]])\n",
    "a2dim"
   ]
  },
  {
   "cell_type": "code",
   "execution_count": 3,
   "id": "0697bb11-5317-403d-acd2-a8d422ae79f5",
   "metadata": {},
   "outputs": [
    {
     "data": {
      "text/plain": [
       "array([[[1, 2],\n",
       "        [3, 4]],\n",
       "\n",
       "       [[5, 6],\n",
       "        [7, 8]]])"
      ]
     },
     "execution_count": 3,
     "metadata": {},
     "output_type": "execute_result"
    }
   ],
   "source": [
    "a3dim = np.array([[[1,2],\n",
    "                  [3,4]],\n",
    "                  [[5,6],\n",
    "                   [7,8]]])\n",
    "\n",
    "a3dim"
   ]
  },
  {
   "cell_type": "markdown",
   "id": "eeb04d9a-991e-4891-8c44-21d7be185fb9",
   "metadata": {},
   "source": [
    "## Size vs shape vs Ndim"
   ]
  },
  {
   "cell_type": "code",
   "execution_count": 4,
   "id": "0fd51fea-fc05-4fa6-a8f7-9524ee8d59a6",
   "metadata": {},
   "outputs": [
    {
     "data": {
      "text/plain": [
       "(3, 6, 8)"
      ]
     },
     "execution_count": 4,
     "metadata": {},
     "output_type": "execute_result"
    }
   ],
   "source": [
    "#Size number of tootal elements in ndarray \n",
    "a1dim.size, a2dim.size, a3dim.size"
   ]
  },
  {
   "cell_type": "code",
   "execution_count": 5,
   "id": "2066bd04-de9a-487a-b569-4e43935b9f3e",
   "metadata": {},
   "outputs": [
    {
     "data": {
      "text/plain": [
       "((3,), (2, 3), (2, 2, 2))"
      ]
     },
     "execution_count": 5,
     "metadata": {},
     "output_type": "execute_result"
    }
   ],
   "source": [
    "#Shape - ndarray shape \n",
    "a1dim.shape, a2dim.shape, a3dim.shape"
   ]
  },
  {
   "cell_type": "code",
   "execution_count": 6,
   "id": "d1982a4f-f144-4872-8242-f629a5807d10",
   "metadata": {},
   "outputs": [
    {
     "data": {
      "text/plain": [
       "(1, 2, 3)"
      ]
     },
     "execution_count": 6,
     "metadata": {},
     "output_type": "execute_result"
    }
   ],
   "source": [
    "#Ndim number of dimentions in arr \n",
    "a1dim.ndim, a2dim.ndim, a3dim.ndim"
   ]
  },
  {
   "cell_type": "markdown",
   "id": "17cda3d8-03fd-4a8e-b097-ccbb182c0d6b",
   "metadata": {},
   "source": [
    "## Create series and data frame from ndarray"
   ]
  },
  {
   "cell_type": "code",
   "execution_count": 7,
   "id": "b4e2edf5-f506-4932-b6d8-318d4bb2dd0b",
   "metadata": {},
   "outputs": [
    {
     "data": {
      "text/plain": [
       "0    1\n",
       "1    2\n",
       "2    3\n",
       "dtype: int32"
      ]
     },
     "execution_count": 7,
     "metadata": {},
     "output_type": "execute_result"
    }
   ],
   "source": [
    "import pandas as pd\n",
    "\n",
    "#in pandas series is a 1 dimentional array (vector)\n",
    "pdSeries = pd.Series(a1dim)\n",
    "pdSeries"
   ]
  },
  {
   "cell_type": "code",
   "execution_count": 8,
   "id": "0ea3f88c-1116-4071-b217-65ea40b5ed10",
   "metadata": {},
   "outputs": [
    {
     "data": {
      "text/html": [
       "<div>\n",
       "<style scoped>\n",
       "    .dataframe tbody tr th:only-of-type {\n",
       "        vertical-align: middle;\n",
       "    }\n",
       "\n",
       "    .dataframe tbody tr th {\n",
       "        vertical-align: top;\n",
       "    }\n",
       "\n",
       "    .dataframe thead th {\n",
       "        text-align: right;\n",
       "    }\n",
       "</style>\n",
       "<table border=\"1\" class=\"dataframe\">\n",
       "  <thead>\n",
       "    <tr style=\"text-align: right;\">\n",
       "      <th></th>\n",
       "      <th>0</th>\n",
       "      <th>1</th>\n",
       "      <th>2</th>\n",
       "    </tr>\n",
       "  </thead>\n",
       "  <tbody>\n",
       "    <tr>\n",
       "      <th>0</th>\n",
       "      <td>1</td>\n",
       "      <td>2</td>\n",
       "      <td>3</td>\n",
       "    </tr>\n",
       "    <tr>\n",
       "      <th>1</th>\n",
       "      <td>4</td>\n",
       "      <td>5</td>\n",
       "      <td>6</td>\n",
       "    </tr>\n",
       "  </tbody>\n",
       "</table>\n",
       "</div>"
      ],
      "text/plain": [
       "   0  1  2\n",
       "0  1  2  3\n",
       "1  4  5  6"
      ]
     },
     "execution_count": 8,
     "metadata": {},
     "output_type": "execute_result"
    }
   ],
   "source": [
    "#DataFrame is an 2-dmetional array(matrix)\n",
    "pdFrame = pd.DataFrame(a2dim)\n",
    "pdFrame"
   ]
  },
  {
   "cell_type": "code",
   "execution_count": 9,
   "id": "f80d75dd-2c8a-4643-92b6-391cf28193b8",
   "metadata": {},
   "outputs": [
    {
     "ename": "SyntaxError",
     "evalue": "invalid syntax (1763129563.py, line 1)",
     "output_type": "error",
     "traceback": [
      "\u001b[1;36m  Cell \u001b[1;32mIn[9], line 1\u001b[1;36m\u001b[0m\n\u001b[1;33m    Data type of array\u001b[0m\n\u001b[1;37m         ^\u001b[0m\n\u001b[1;31mSyntaxError\u001b[0m\u001b[1;31m:\u001b[0m invalid syntax\n"
     ]
    }
   ],
   "source": [
    "Data type of array \n",
    "a1dim.dtype"
   ]
  },
  {
   "cell_type": "markdown",
   "id": "de589942-670c-4ed5-a5a2-217293ca9ee8",
   "metadata": {},
   "source": [
    "## Creating arrays "
   ]
  },
  {
   "cell_type": "code",
   "execution_count": 10,
   "id": "05a2131b-7a9d-4bdf-b244-fa003863b00d",
   "metadata": {},
   "outputs": [
    {
     "ename": "TypeError",
     "evalue": "ones() got an unexpected keyword argument 'stype'",
     "output_type": "error",
     "traceback": [
      "\u001b[1;31m---------------------------------------------------------------------------\u001b[0m",
      "\u001b[1;31mTypeError\u001b[0m                                 Traceback (most recent call last)",
      "Cell \u001b[1;32mIn[10], line 2\u001b[0m\n\u001b[0;32m      1\u001b[0m \u001b[38;5;66;03m#shift+tab will show function docs \u001b[39;00m\n\u001b[1;32m----> 2\u001b[0m a \u001b[38;5;241m=\u001b[39m np\u001b[38;5;241m.\u001b[39mones((\u001b[38;5;241m2\u001b[39m,\u001b[38;5;241m2\u001b[39m), stype\u001b[38;5;241m=\u001b[39mnp\u001b[38;5;241m.\u001b[39mint8)\n\u001b[0;32m      3\u001b[0m a\n",
      "\u001b[1;31mTypeError\u001b[0m: ones() got an unexpected keyword argument 'stype'"
     ]
    }
   ],
   "source": [
    "#shift+tab will show function docs \n",
    "a = np.ones((2,2), stype=np.int8)\n",
    "a"
   ]
  },
  {
   "cell_type": "code",
   "execution_count": null,
   "id": "adb145f3-657a-4703-b937-a7f846308831",
   "metadata": {},
   "outputs": [],
   "source": [
    "#Np arranged array - takes start, stop, step \n",
    "arranged = np.arange(1, 24, 2)\n",
    "arranged"
   ]
  },
  {
   "cell_type": "code",
   "execution_count": null,
   "id": "39c696a4-1d26-48da-bd5d-2515a1293386",
   "metadata": {},
   "outputs": [],
   "source": [
    "#randint(low, high=None, size=None, dtype=int)\n",
    "#Return random integers from `low` (inclusive) to `high` (exclusive)\n",
    "\n",
    "rando = np.random.randint(5, 25, size=(2,2))\n",
    "rando"
   ]
  },
  {
   "cell_type": "code",
   "execution_count": 11,
   "id": "b7bbd870-c279-4e68-9993-a00235087969",
   "metadata": {},
   "outputs": [
    {
     "data": {
      "text/plain": [
       "array([[20,  9],\n",
       "       [ 8, 24]])"
      ]
     },
     "execution_count": 11,
     "metadata": {},
     "output_type": "execute_result"
    }
   ],
   "source": [
    "#Pseudo-random numbers \n",
    "#In the example above we generate random array but every time we run the code it regenertes the arr\n",
    "#random.seed(n) allows us to seed some number n that will be used to generate random array since it's our random arr will be fixed as well \n",
    "\n",
    "np.random.seed(7)\n",
    "rando2 = np.random.randint(5, 25, size=(2,2))\n",
    "rando2"
   ]
  },
  {
   "cell_type": "markdown",
   "id": "3b998689-8a71-45b1-aca2-4d6b9fde4cb8",
   "metadata": {},
   "source": [
    "## Viewing arrays "
   ]
  },
  {
   "cell_type": "code",
   "execution_count": 12,
   "id": "f428c085-8bfb-4f98-9401-1a16c1edd19e",
   "metadata": {},
   "outputs": [
    {
     "data": {
      "text/plain": [
       "6"
      ]
     },
     "execution_count": 12,
     "metadata": {},
     "output_type": "execute_result"
    }
   ],
   "source": [
    "a1 = np.array([4,5,6,7])\n",
    "a1[2]"
   ]
  },
  {
   "cell_type": "code",
   "execution_count": 13,
   "id": "2ce1c052-f617-4d87-9cbd-ba6598c9dd9b",
   "metadata": {},
   "outputs": [
    {
     "data": {
      "text/plain": [
       "array([[7, 7, 9],\n",
       "       [7, 8, 9],\n",
       "       [8, 7, 6]])"
      ]
     },
     "execution_count": 13,
     "metadata": {},
     "output_type": "execute_result"
    }
   ],
   "source": [
    "a2 = np.random.randint(0, 10, size=(3,3))\n",
    "a2"
   ]
  },
  {
   "cell_type": "code",
   "execution_count": 14,
   "id": "004050f0-de64-43a9-b7f3-503999c57152",
   "metadata": {},
   "outputs": [
    {
     "data": {
      "text/plain": [
       "array([7, 8, 9])"
      ]
     },
     "execution_count": 14,
     "metadata": {},
     "output_type": "execute_result"
    }
   ],
   "source": [
    "#lets get the second raw of a2 matrix\n",
    "a2[1]"
   ]
  },
  {
   "cell_type": "code",
   "execution_count": 15,
   "id": "1a06718e-c072-4546-bf04-189756f0cff8",
   "metadata": {},
   "outputs": [
    {
     "data": {
      "text/plain": [
       "7"
      ]
     },
     "execution_count": 15,
     "metadata": {},
     "output_type": "execute_result"
    }
   ],
   "source": [
    "#what if we want first element of the second raw\n",
    "a2[1,0]"
   ]
  },
  {
   "cell_type": "code",
   "execution_count": 16,
   "id": "1b1a66d3-4283-4f73-a4b6-df03304addce",
   "metadata": {},
   "outputs": [
    {
     "data": {
      "text/plain": [
       "array([[[4, 0, 7],\n",
       "        [0, 7, 6],\n",
       "        [3, 5, 8]],\n",
       "\n",
       "       [[8, 7, 5],\n",
       "        [0, 0, 2],\n",
       "        [8, 9, 6]],\n",
       "\n",
       "       [[4, 9, 7],\n",
       "        [3, 3, 8],\n",
       "        [3, 0, 1]]])"
      ]
     },
     "execution_count": 16,
     "metadata": {},
     "output_type": "execute_result"
    }
   ],
   "source": [
    "a3 = np.random.randint(0, 10, size=(3,3,3))\n",
    "a3"
   ]
  },
  {
   "cell_type": "code",
   "execution_count": 17,
   "id": "addf6de3-9068-4fa8-b98c-00f15b16e49a",
   "metadata": {},
   "outputs": [
    {
     "data": {
      "text/plain": [
       "0"
      ]
     },
     "execution_count": 17,
     "metadata": {},
     "output_type": "execute_result"
    }
   ],
   "source": [
    "a3[1, 1, 1]"
   ]
  },
  {
   "cell_type": "markdown",
   "id": "e055d2b9-f8df-4b07-b9d0-4fbbb9eaea21",
   "metadata": {},
   "source": [
    "### Sliced view "
   ]
  },
  {
   "cell_type": "code",
   "execution_count": 18,
   "id": "dc00295e-d3e1-4670-87ca-1dc7e98f48a8",
   "metadata": {},
   "outputs": [
    {
     "data": {
      "text/plain": [
       "array([[[0, 0, 6],\n",
       "        [7, 7, 9],\n",
       "        [3, 0, 7]],\n",
       "\n",
       "       [[7, 7, 0],\n",
       "        [5, 4, 3],\n",
       "        [1, 3, 1]],\n",
       "\n",
       "       [[3, 4, 3],\n",
       "        [1, 9, 5],\n",
       "        [9, 1, 2]]])"
      ]
     },
     "execution_count": 18,
     "metadata": {},
     "output_type": "execute_result"
    }
   ],
   "source": [
    "a4 = np.random.randint(0, 10, size=(3,3,3))\n",
    "a4\n"
   ]
  },
  {
   "cell_type": "code",
   "execution_count": 19,
   "id": "168a5094-dc3d-4c49-8487-ee603d7e7d94",
   "metadata": {},
   "outputs": [
    {
     "data": {
      "text/plain": [
       "array([[0, 0],\n",
       "       [7, 7]])"
      ]
     },
     "execution_count": 19,
     "metadata": {},
     "output_type": "execute_result"
    }
   ],
   "source": [
    "#lets get first 2 elements of first 2 arrays\n",
    "a4[0, :2, :2]"
   ]
  },
  {
   "cell_type": "markdown",
   "id": "5a1bf19e-cae8-4617-b708-35576451d784",
   "metadata": {},
   "source": [
    "## Arithmetic operations on arrays with the same shape "
   ]
  },
  {
   "cell_type": "code",
   "execution_count": 20,
   "id": "c70bce56-1139-4d21-b361-5b7765afce15",
   "metadata": {},
   "outputs": [
    {
     "data": {
      "text/plain": [
       "array([3, 3, 3, 3])"
      ]
     },
     "execution_count": 20,
     "metadata": {},
     "output_type": "execute_result"
    }
   ],
   "source": [
    "one = np.array([1,1,1,1])\n",
    "two = np.array([2,2,2,2])\n",
    "\n",
    "\n",
    "one+two"
   ]
  },
  {
   "cell_type": "code",
   "execution_count": 21,
   "id": "5bcac4a1-ac57-4055-acd1-a6257f5d45f7",
   "metadata": {},
   "outputs": [
    {
     "data": {
      "text/plain": [
       "array([-1, -1, -1, -1])"
      ]
     },
     "execution_count": 21,
     "metadata": {},
     "output_type": "execute_result"
    }
   ],
   "source": [
    "one-two"
   ]
  },
  {
   "cell_type": "code",
   "execution_count": 22,
   "id": "058e7114-d347-4273-bd10-6e2cd3aa9388",
   "metadata": {},
   "outputs": [
    {
     "data": {
      "text/plain": [
       "array([2, 2, 2, 2])"
      ]
     },
     "execution_count": 22,
     "metadata": {},
     "output_type": "execute_result"
    }
   ],
   "source": [
    "one*two"
   ]
  },
  {
   "cell_type": "code",
   "execution_count": 23,
   "id": "145a0543-70f6-4878-96a6-ec87eb45a0ef",
   "metadata": {},
   "outputs": [
    {
     "data": {
      "text/plain": [
       "array([0.5, 0.5, 0.5, 0.5])"
      ]
     },
     "execution_count": 23,
     "metadata": {},
     "output_type": "execute_result"
    }
   ],
   "source": [
    "one / two"
   ]
  },
  {
   "cell_type": "code",
   "execution_count": 24,
   "id": "a35fb162-2e09-47bb-9077-6f570f71e621",
   "metadata": {},
   "outputs": [
    {
     "data": {
      "text/plain": [
       "array([0, 0, 0, 0])"
      ]
     },
     "execution_count": 24,
     "metadata": {},
     "output_type": "execute_result"
    }
   ],
   "source": [
    "one // two"
   ]
  },
  {
   "cell_type": "markdown",
   "id": "988b4efb-429a-4064-9fa5-0c5315d7fea6",
   "metadata": {},
   "source": [
    "## Arithmetic operations on arrays with different shapes "
   ]
  },
  {
   "cell_type": "markdown",
   "id": "60b68707-4847-48be-8045-11fc87f5bb31",
   "metadata": {},
   "source": [
    "Numpy uses broadcasting - the smaller array is “broadcast” across the larger array so that they have compatible shapes.\n",
    "Read more - https://numpy.org/doc/stable/user/basics.broadcasting.html"
   ]
  },
  {
   "cell_type": "code",
   "execution_count": 25,
   "id": "32d11beb-50a5-4d05-b679-ffcd207f9738",
   "metadata": {},
   "outputs": [
    {
     "data": {
      "text/plain": [
       "array([[ 1.,  2.,  3.],\n",
       "       [11., 12., 13.],\n",
       "       [21., 22., 23.],\n",
       "       [31., 32., 33.]])"
      ]
     },
     "execution_count": 25,
     "metadata": {},
     "output_type": "execute_result"
    }
   ],
   "source": [
    "a = np.array([[ 0.0,  0.0,  0.0],\n",
    "              [10.0, 10.0, 10.0],\n",
    "              [20.0, 20.0, 20.0],\n",
    "              [30.0, 30.0, 30.0]])\n",
    "b = np.array([1.0, 2.0, 3.0])\n",
    "\n",
    "a.shape\n",
    "a + b"
   ]
  },
  {
   "cell_type": "markdown",
   "id": "0864646a-0402-486c-be18-11d75ad2b010",
   "metadata": {},
   "source": [
    "NumPy compares their shapes element-wise. It starts with the trailing (i.e. rightmost) dimension and works its way left. Two dimensions are compatible when\n",
    "1.they are equal, or\n",
    "2.one of them is 1."
   ]
  },
  {
   "cell_type": "code",
   "execution_count": 26,
   "id": "731e4807-6791-4e2d-9d23-122eb5a3bdd2",
   "metadata": {},
   "outputs": [
    {
     "ename": "ValueError",
     "evalue": "operands could not be broadcast together with shapes (3,) (2,) ",
     "output_type": "error",
     "traceback": [
      "\u001b[1;31m---------------------------------------------------------------------------\u001b[0m",
      "\u001b[1;31mValueError\u001b[0m                                Traceback (most recent call last)",
      "Cell \u001b[1;32mIn[26], line 5\u001b[0m\n\u001b[0;32m      2\u001b[0m c \u001b[38;5;241m=\u001b[39m np\u001b[38;5;241m.\u001b[39marray([\u001b[38;5;241m3\u001b[39m,\u001b[38;5;241m3\u001b[39m,\u001b[38;5;241m3\u001b[39m])\n\u001b[0;32m      3\u001b[0m d \u001b[38;5;241m=\u001b[39m np\u001b[38;5;241m.\u001b[39marray([\u001b[38;5;241m4\u001b[39m,\u001b[38;5;241m4\u001b[39m])\n\u001b[1;32m----> 5\u001b[0m c\u001b[38;5;241m+\u001b[39md\n",
      "\u001b[1;31mValueError\u001b[0m: operands could not be broadcast together with shapes (3,) (2,) "
     ]
    }
   ],
   "source": [
    "#the following example will return ValueError cannot broadcast because \n",
    "c = np.array([3,3,3])\n",
    "d = np.array([4,4])\n",
    "\n",
    "c+d\n",
    "\n"
   ]
  },
  {
   "cell_type": "markdown",
   "id": "ab0cd0d0-1587-44d0-9052-4d0183408839",
   "metadata": {},
   "source": [
    "##### Array Shapes:\n",
    "Array c has the shape (3,), meaning it is a one-dimensional array with three elements.\n",
    "Array d has the shape (2,), meaning it is also a one-dimensional array but with two elements.\n",
    "\n",
    "##### Broadcasting Compatibility Check:\n",
    "When adding two arrays, NumPy attempts to broadcast them by aligning their shapes from the trailing dimensions.\n",
    "For the arrays c and d, their shapes aligned from the rightmost dimension look like this:\n",
    "c: (3,)\n",
    "d: (2,)\n",
    "##### Dimension Comparison:\n",
    "The rightmost dimension for c is 3, and for d, it is 2. \n",
    "According to broadcasting rules, two dimensions are compatible if:\n",
    "1. They are equal, or\n",
    "2. One of them is 1.\n",
    "\n",
    "In this case, neither dimension is 1, nor are they equal (3 ≠ 2), which means that these dimensions cannot be broadcast together.\n"
   ]
  },
  {
   "cell_type": "markdown",
   "id": "3655e314-5338-4240-9c37-3d1679eb6611",
   "metadata": {},
   "source": [
    "### Aggregation\n",
    "Aggreagation performing the same operation on a number of things"
   ]
  },
  {
   "cell_type": "markdown",
   "id": "7770190c-0e90-4a80-a958-3f5831dd16be",
   "metadata": {},
   "source": [
    "##### There is multoiple ways to perform sum() operation on array one is python build in method and the other one is np.sum(arr)\n",
    "Which one should we use?\n",
    "### General rule: for Python naitive array use python method and for ndaray use np.sum()"
   ]
  },
  {
   "cell_type": "code",
   "execution_count": 27,
   "id": "c44b4661-bedf-409d-832f-a250384ecef7",
   "metadata": {},
   "outputs": [
    {
     "data": {
      "text/plain": [
       "array([0.50395514, 0.62325582, 0.65697232, 0.25913577, 0.40519906,\n",
       "       0.66726077, 0.43950131, 0.78173551, 0.68462892, 0.73667446])"
      ]
     },
     "execution_count": 27,
     "metadata": {},
     "output_type": "execute_result"
    }
   ],
   "source": [
    "#Create massive ndarray \n",
    "m = np.random.random(1000)\n",
    "m[:10]"
   ]
  },
  {
   "cell_type": "code",
   "execution_count": 28,
   "id": "fd27104d-8d48-42ea-ab02-1f12515bec10",
   "metadata": {},
   "outputs": [
    {
     "name": "stdout",
     "output_type": "stream",
     "text": [
      "79.6 µs ± 5.72 µs per loop (mean ± std. dev. of 7 runs, 10,000 loops each)\n",
      "4.1 µs ± 259 ns per loop (mean ± std. dev. of 7 runs, 100,000 loops each)\n"
     ]
    }
   ],
   "source": [
    "# now lets measure the performance \n",
    "%timeit sum(m)   #Python sum\n",
    "%timeit np.sum(m) #Np sum"
   ]
  },
  {
   "cell_type": "markdown",
   "id": "ab8c973b-cf5a-44c9-a63e-41af3a2b50dc",
   "metadata": {},
   "source": [
    "#### As we can see np.sum() function is way faster because it optimized for np data types"
   ]
  },
  {
   "cell_type": "markdown",
   "id": "993afd36-3654-422d-b1a0-7d05e6de7e2b",
   "metadata": {},
   "source": [
    "### Statistics functions "
   ]
  },
  {
   "cell_type": "code",
   "execution_count": 29,
   "id": "8746f020-46fe-4642-bc9e-6e87c7e4dba9",
   "metadata": {},
   "outputs": [
    {
     "data": {
      "text/plain": [
       "array([2, 0, 2, 9, 4, 0, 9, 2, 7, 9])"
      ]
     },
     "execution_count": 29,
     "metadata": {},
     "output_type": "execute_result"
    }
   ],
   "source": [
    "test = np.random.randint(0,10, size=10)\n",
    "test"
   ]
  },
  {
   "cell_type": "code",
   "execution_count": 30,
   "id": "f01af9e7-4fc7-4982-90fd-8d0bea808dc2",
   "metadata": {},
   "outputs": [
    {
     "data": {
      "text/plain": [
       "9"
      ]
     },
     "execution_count": 30,
     "metadata": {},
     "output_type": "execute_result"
    }
   ],
   "source": [
    "np.min(test)\n",
    "np.max(test)"
   ]
  },
  {
   "cell_type": "code",
   "execution_count": 31,
   "id": "e012919a-188b-4a2b-986b-8b8be3c6d1fa",
   "metadata": {},
   "outputs": [
    {
     "data": {
      "text/plain": [
       "4.4"
      ]
     },
     "execution_count": 31,
     "metadata": {},
     "output_type": "execute_result"
    }
   ],
   "source": [
    "np.mean(test)"
   ]
  },
  {
   "cell_type": "markdown",
   "id": "15ff1221-e030-4aa9-87d9-07cf582741c6",
   "metadata": {},
   "source": [
    "### Mean - Variance - Standard deviation"
   ]
  },
  {
   "cell_type": "markdown",
   "id": "4c6f5e8d-5aa7-4865-8fd0-b73e5e37ba1f",
   "metadata": {},
   "source": [
    "#### Mean: \n",
    "This is the average of a set of numbers. You calculate it by adding up all the numbers and then dividing by the count of the numbers. \n",
    "For example, if you have the numbers 1, 2, and 3, their mean is (1+2+3)/3 = 2.\n",
    "#### Variance: \n",
    "This measures how spread out a set of numbers is from their mean. \n",
    "It's calculated by taking the average of the squared differences from the Mean. \n",
    "Using the same numbers 1, 2, and 3:\n",
    "1.First, find the mean (which is 2).\n",
    "2.Subtract the mean from each number and square the result: (1-2)² = 1, (2-2)² = 0, (3-2)² = 1.\n",
    "3.Now, find the mean of these squared differences: (1+0+1)/3 = 2/3.\n",
    "\n",
    "#### Standard Deviation: \n",
    "This is the square root of the variance. \n",
    "It provides a way of looking at how much the numbers in the set deviate from the mean in the same units as the original data. Continuing from the example:\n",
    "The variance was 2/3, so the standard deviation is the square root of 2/3, which is about 0.82."
   ]
  },
  {
   "cell_type": "code",
   "execution_count": 32,
   "id": "02b5e433-4328-4342-bca5-5b633132a406",
   "metadata": {},
   "outputs": [
    {
     "data": {
      "text/plain": [
       "59.4"
      ]
     },
     "execution_count": 32,
     "metadata": {},
     "output_type": "execute_result"
    }
   ],
   "source": [
    "weights = np.array([22, 44, 66, 77, 88])\n",
    "np.mean(weights)"
   ]
  },
  {
   "cell_type": "code",
   "execution_count": 33,
   "id": "e38f26d3-ffc6-43fb-bc35-bcae07b2acc2",
   "metadata": {},
   "outputs": [
    {
     "data": {
      "text/plain": [
       "561.4399999999999"
      ]
     },
     "execution_count": 33,
     "metadata": {},
     "output_type": "execute_result"
    }
   ],
   "source": [
    "np.var(weights)"
   ]
  },
  {
   "cell_type": "code",
   "execution_count": 34,
   "id": "afc624c6-04e5-43d1-968c-c46139294d3b",
   "metadata": {},
   "outputs": [
    {
     "data": {
      "text/plain": [
       "23.69472515139182"
      ]
     },
     "execution_count": 34,
     "metadata": {},
     "output_type": "execute_result"
    }
   ],
   "source": [
    "#Standard deviation - square root fo Variance \n",
    "np.sqrt(np.var(weights))"
   ]
  },
  {
   "cell_type": "code",
   "execution_count": 35,
   "id": "e84d1ace-d0db-4082-bd55-aefdc9b78112",
   "metadata": {},
   "outputs": [
    {
     "data": {
      "text/plain": [
       "(3509072.16, 2.0)"
      ]
     },
     "execution_count": 35,
     "metadata": {},
     "output_type": "execute_result"
    }
   ],
   "source": [
    "#Higher the variance - more spread number from their mean \n",
    "#High variance wider range of numbers \n",
    "#low varinace lower range of numbers \n",
    "high_variance_arr = np.array([1, 100, 500, 1000, 5000])\n",
    "low_variance_arr = np.array([1,2,3,4,5])\n",
    "\n",
    "np.var(high_variance_arr), np.var(low_variance_arr)"
   ]
  },
  {
   "cell_type": "code",
   "execution_count": 36,
   "id": "7fc645bd-bdc5-4a1a-a2ac-830034bca8b9",
   "metadata": {},
   "outputs": [
    {
     "data": {
      "text/plain": [
       "(1873.2517609760841, 1.4142135623730951)"
      ]
     },
     "execution_count": 36,
     "metadata": {},
     "output_type": "execute_result"
    }
   ],
   "source": [
    "#lets look at standard deviation\n",
    "np.std(high_variance_arr), np.std(low_variance_arr)"
   ]
  },
  {
   "cell_type": "code",
   "execution_count": 37,
   "id": "af83a6f8-d6fb-4417-a847-bcdb3d18715a",
   "metadata": {},
   "outputs": [
    {
     "data": {
      "image/png": "[encoded data removed]",
      "text/plain": [
       "<Figure size 640x480 with 1 Axes>"
      ]
     },
     "metadata": {},
     "output_type": "display_data"
    }
   ],
   "source": [
    "# Now lets look at the histogram to visualize \n",
    "%matplotlib inline\n",
    "import matplotlib.pyplot as plt\n",
    "plt.hist(high_variance_arr)\n",
    "plt.show()"
   ]
  },
  {
   "cell_type": "code",
   "execution_count": 38,
   "id": "c911ed74-7438-489a-9ddb-15f66c208892",
   "metadata": {},
   "outputs": [
    {
     "data": {
      "image/png": "[encoded data removed]",
      "text/plain": [
       "<Figure size 640x480 with 1 Axes>"
      ]
     },
     "metadata": {},
     "output_type": "display_data"
    }
   ],
   "source": [
    "plt.hist(low_variance_arr)\n",
    "plt.show()"
   ]
  },
  {
   "cell_type": "markdown",
   "id": "cd50f584-429e-4cc8-a42e-89b31a4c864d",
   "metadata": {},
   "source": [
    "From the above histogram we can see numbers in high_variance_arr way futhure one from other than nums in low_variance_arr"
   ]
  },
  {
   "cell_type": "markdown",
   "id": "6c6111b9-cd5e-4e9e-bace-229a24d96e3a",
   "metadata": {},
   "source": [
    "# Reshaping and Transposing"
   ]
  },
  {
   "cell_type": "code",
   "execution_count": 39,
   "id": "cacc8b45-4b1c-4f6c-9e19-5f6db38d9089",
   "metadata": {},
   "outputs": [
    {
     "data": {
      "text/plain": [
       "array([[0, 1, 2, 5],\n",
       "       [5, 6, 3, 1],\n",
       "       [8, 4, 1, 2],\n",
       "       [4, 1, 6, 1]])"
      ]
     },
     "execution_count": 39,
     "metadata": {},
     "output_type": "execute_result"
    }
   ],
   "source": [
    "shady = np.random.randint(0,10, size=(4,4))\n",
    "shady"
   ]
  },
  {
   "cell_type": "code",
   "execution_count": 40,
   "id": "7b029376-fbc2-48e0-a0cd-3fb81d58fab5",
   "metadata": {},
   "outputs": [
    {
     "data": {
      "text/plain": [
       "array([[[0, 1, 2, 5],\n",
       "        [5, 6, 3, 1]],\n",
       "\n",
       "       [[8, 4, 1, 2],\n",
       "        [4, 1, 6, 1]]])"
      ]
     },
     "execution_count": 40,
     "metadata": {},
     "output_type": "execute_result"
    }
   ],
   "source": [
    "#reshape \n",
    "shady.reshape(2,2,4)"
   ]
  },
  {
   "cell_type": "code",
   "execution_count": 41,
   "id": "414cb261-b5ea-4d97-85dd-b0d4053aece9",
   "metadata": {},
   "outputs": [
    {
     "ename": "ValueError",
     "evalue": "cannot reshape array of size 16 into shape (5,5,5)",
     "output_type": "error",
     "traceback": [
      "\u001b[1;31m---------------------------------------------------------------------------\u001b[0m",
      "\u001b[1;31mValueError\u001b[0m                                Traceback (most recent call last)",
      "Cell \u001b[1;32mIn[41], line 1\u001b[0m\n\u001b[1;32m----> 1\u001b[0m shady\u001b[38;5;241m.\u001b[39mreshape(\u001b[38;5;241m5\u001b[39m,\u001b[38;5;241m5\u001b[39m,\u001b[38;5;241m5\u001b[39m)\n",
      "\u001b[1;31mValueError\u001b[0m: cannot reshape array of size 16 into shape (5,5,5)"
     ]
    }
   ],
   "source": [
    "shady.reshape(5,5,5)\n",
    "#this will not work because to reshape product of shapes should remain the same \n",
    "# From the example above we had (4,4) = 4*4 = 16\n",
    "# We reshaped it to (2,2,4) = 2*2*4 = 16 and it warked because the size has not changed"
   ]
  },
  {
   "cell_type": "markdown",
   "id": "23a74795-bd40-43a8-af96-3a21ec191c72",
   "metadata": {},
   "source": [
    "### Transpose - switches the axesies (2,3) array will become (3,2) after arr.T "
   ]
  },
  {
   "cell_type": "code",
   "execution_count": null,
   "id": "c91d5590-710b-4894-9fd4-2991107f9a47",
   "metadata": {},
   "outputs": [],
   "source": [
    "trans = np.random.randint(1,5, size=(2,3))\n",
    "print(trans)\n",
    "\n",
    "print(trans.T)"
   ]
  },
  {
   "cell_type": "markdown",
   "id": "2679e018-deca-4210-9c81-acef310f177c",
   "metadata": {},
   "source": [
    "## Dot Product and Elementwise"
   ]
  },
  {
   "cell_type": "code",
   "execution_count": 46,
   "id": "48688ad7-84e4-46c5-ae4c-50630b16f7bb",
   "metadata": {},
   "outputs": [
    {
     "data": {
      "text/plain": [
       "(array([[1, 4, 2],\n",
       "        [1, 3, 4]]),\n",
       " array([[3, 4, 1],\n",
       "        [4, 3, 2]]))"
      ]
     },
     "execution_count": 46,
     "metadata": {},
     "output_type": "execute_result"
    }
   ],
   "source": [
    "np.random.seed(2)\n",
    "mat1 = np.random.randint(1,5, size=(2,3))\n",
    "mat2 = np.random.randint(1,5, size=(2,3))\n",
    "mat1, mat2\n",
    "\n",
    "#Elementwise multiplication - each element in matrix1 multiplyed by element at mat2\n",
    "mat1 * mat2"
   ]
  },
  {
   "cell_type": "markdown",
   "id": "05596a20-c17f-4190-9051-bffd31a252e7",
   "metadata": {},
   "source": [
    "## np.dot()\n",
    "To perform the dot product, the number of columns in the first matrix must match the number of rows in the second matrix. If matrix A is of size \n",
    "m×n and matrix B is of size n×p, the resulting matrix C will be of size m×p.\n",
    "Calculation: The dot product of matrices involves multiplying the rows of the first matrix with the columns of the second matrix. \n",
    "For each pair, you multiply corresponding elements and then sum them up. This sum becomes an element in the resulting matrix.\n",
    "\n",
    "See example: http://matrixmultiplication.xyz/ \n"
   ]
  },
  {
   "cell_type": "code",
   "execution_count": 48,
   "id": "4a6e3144-750d-4563-b175-9f89fb90002c",
   "metadata": {},
   "outputs": [
    {
     "data": {
      "text/plain": [
       "array([[3, 4],\n",
       "       [4, 3],\n",
       "       [1, 2]])"
      ]
     },
     "execution_count": 48,
     "metadata": {},
     "output_type": "execute_result"
    }
   ],
   "source": [
    "# we need 2 maticies (n,m) -> (m,n)\n",
    "# we can transpose matrix mat2 from shape (2,3) to become (3,2) \n",
    "\n",
    "mat2.T"
   ]
  },
  {
   "cell_type": "code",
   "execution_count": 50,
   "id": "b7581e14-aec0-4889-a7a7-5381380050dd",
   "metadata": {},
   "outputs": [
    {
     "data": {
      "text/plain": [
       "array([[21, 20],\n",
       "       [19, 21]])"
      ]
     },
     "execution_count": 50,
     "metadata": {},
     "output_type": "execute_result"
    }
   ],
   "source": [
    "#now we can get a dot product \n",
    "np.dot(mat1, mat2.T)"
   ]
  },
  {
   "cell_type": "code",
   "execution_count": null,
   "id": "56a99625-71fa-4b42-8b5d-c19835eebab6",
   "metadata": {},
   "outputs": [],
   "source": []
  }
 ],
 "metadata": {
  "kernelspec": {
   "display_name": "Python 3 (ipykernel)",
   "language": "python",
   "name": "python3"
  },
  "language_info": {
   "codemirror_mode": {
    "name": "ipython",
    "version": 3
   },
   "file_extension": ".py",
   "mimetype": "text/x-python",
   "name": "python",
   "nbconvert_exporter": "python",
   "pygments_lexer": "ipython3",
   "version": "3.11.5"
  }
 },
 "nbformat": 4,
 "nbformat_minor": 5
}
