{
 "cells": [
  {
   "cell_type": "code",
   "execution_count": 6,
   "id": "66eff5da-7d88-4a3d-a2d6-27cc9fa68544",
   "metadata": {},
   "outputs": [],
   "source": [
    "import pandas as pd\n",
    "from typing import List"
   ]
  },
  {
   "cell_type": "markdown",
   "id": "8d493c5f-bc02-434d-abf3-d87cbea2206a",
   "metadata": {},
   "source": [
    "# Leetcode problems:"
   ]
  },
  {
   "cell_type": "markdown",
   "id": "83b3370a-27fc-4332-ba9d-fbc84e57c626",
   "metadata": {},
   "source": [
    "### 1. Create Dataframe from list\n",
    "Write a solution to create a DataFrame from a 2D list called student_data. This 2D list contains the IDs and ages of some students.\n",
    "\n",
    "The DataFrame should have two columns, student_id and age, and be in the same order as the original 2D lis"
   ]
  },
  {
   "cell_type": "code",
   "execution_count": 9,
   "id": "eae383b6-962a-4197-a56e-7e2c1718748d",
   "metadata": {},
   "outputs": [
    {
     "data": {
      "text/html": [
       "<div>\n",
       "<style scoped>\n",
       "    .dataframe tbody tr th:only-of-type {\n",
       "        vertical-align: middle;\n",
       "    }\n",
       "\n",
       "    .dataframe tbody tr th {\n",
       "        vertical-align: top;\n",
       "    }\n",
       "\n",
       "    .dataframe thead th {\n",
       "        text-align: right;\n",
       "    }\n",
       "</style>\n",
       "<table border=\"1\" class=\"dataframe\">\n",
       "  <thead>\n",
       "    <tr style=\"text-align: right;\">\n",
       "      <th></th>\n",
       "      <th>student_id</th>\n",
       "      <th>age</th>\n",
       "    </tr>\n",
       "  </thead>\n",
       "  <tbody>\n",
       "    <tr>\n",
       "      <th>0</th>\n",
       "      <td>1</td>\n",
       "      <td>19</td>\n",
       "    </tr>\n",
       "    <tr>\n",
       "      <th>1</th>\n",
       "      <td>2</td>\n",
       "      <td>20</td>\n",
       "    </tr>\n",
       "    <tr>\n",
       "      <th>2</th>\n",
       "      <td>3</td>\n",
       "      <td>18</td>\n",
       "    </tr>\n",
       "  </tbody>\n",
       "</table>\n",
       "</div>"
      ],
      "text/plain": [
       "   student_id  age\n",
       "0           1   19\n",
       "1           2   20\n",
       "2           3   18"
      ]
     },
     "execution_count": 9,
     "metadata": {},
     "output_type": "execute_result"
    }
   ],
   "source": [
    "def createDataframe(student_data: List[List[int]]) -> pd.DataFrame:\n",
    "    columns = [\"student_id\", \"age\"]\n",
    "    frame = pd.DataFrame(student_data, columns=columns)\n",
    "    return frame\n",
    "\n",
    "\n",
    "\n",
    "#call function\n",
    "student_data = [\n",
    "    [1, 19],  # Student ID 1, Age 19\n",
    "    [2, 20],  # Student ID 2, Age 20\n",
    "    [3, 18]   # Student ID 3, Age 18\n",
    "]\n",
    "\n",
    "createDataframe(student_data)\n",
    "    "
   ]
  },
  {
   "cell_type": "markdown",
   "id": "51143677-84ca-4829-866d-36b8d8f31a6f",
   "metadata": {},
   "source": [
    "### 2. Get the size of data-frame "
   ]
  },
  {
   "cell_type": "code",
   "execution_count": null,
   "id": "69235371-2b6a-4c28-ac06-f7b41e02e775",
   "metadata": {},
   "outputs": [],
   "source": [
    "Write a solution to calculate and display the number of rows and columns of data."
   ]
  },
  {
   "cell_type": "code",
   "execution_count": 14,
   "id": "bb8d6d0b-7004-4632-8ff4-02066ed296cd",
   "metadata": {},
   "outputs": [
    {
     "name": "stdout",
     "output_type": "stream",
     "text": [
      "Total elements: 9\n",
      "Dimensions (rows, columns): 3, 3\n",
      "Number of rows: 3\n",
      "Number of columns: 3\n"
     ]
    }
   ],
   "source": [
    "data = {'Name': ['Alice', 'Bob', 'Charlie'], 'Age': [25, 30, 35], 'Salary': [50000, 60000, 70000]}\n",
    "df = pd.DataFrame(data)\n",
    "\n",
    "# Total number of elements\n",
    "total_elements = df.size\n",
    "\n",
    "# Number of rows and columns\n",
    "rows, columns = df.shape\n",
    "\n",
    "# Number of rows\n",
    "num_rows = len(df)\n",
    "\n",
    "# Number of columns\n",
    "num_columns = len(df.columns)\n",
    "\n",
    "\n",
    "print(f\"Total elements: {total_elements}\")\n",
    "print(f\"Dimensions (rows, columns): {rows}, {columns}\")\n",
    "print(f\"Number of rows: {num_rows}\")\n",
    "print(f\"Number of columns: {num_columns}\")"
   ]
  },
  {
   "cell_type": "code",
   "execution_count": null,
   "id": "0874b049-0eff-4789-8f71-64742b0e860c",
   "metadata": {},
   "outputs": [],
   "source": []
  }
 ],
 "metadata": {
  "kernelspec": {
   "display_name": "Python 3 (ipykernel)",
   "language": "python",
   "name": "python3"
  },
  "language_info": {
   "codemirror_mode": {
    "name": "ipython",
    "version": 3
   },
   "file_extension": ".py",
   "mimetype": "text/x-python",
   "name": "python",
   "nbconvert_exporter": "python",
   "pygments_lexer": "ipython3",
   "version": "3.11.5"
  }
 },
 "nbformat": 4,
 "nbformat_minor": 5
}
